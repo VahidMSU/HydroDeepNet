{
 "cells": [
  {
   "cell_type": "code",
   "execution_count": 1,
   "metadata": {},
   "outputs": [
    {
     "name": "stderr",
     "output_type": "stream",
     "text": [
      "2024-12-16 07:31:37,582 - INFO - Extracting PRISM data.\n",
      "2024-12-16 07:31:37,591 - INFO - Mask shape: (1849, 1458)\n",
      "2024-12-16 07:31:37,592 - INFO - PRISM keys: <KeysViewHDF5 ['metadata', 'ppt', 'tmax', 'tmin']>\n",
      "2024-12-16 07:31:37,593 - INFO - Range of available years: <KeysViewHDF5 ['1990', '1991', '1992', '1993', '1994', '1995', '1996', '1997', '1998', '1999', '2000', '2001', '2002', '2003', '2004', '2005', '2006', '2007', '2008', '2009', '2010', '2011', '2012', '2013', '2014', '2015', '2016', '2017', '2018', '2019', '2020', '2021', '2022']>\n",
      "2024-12-16 07:31:37,594 - INFO - Size of the original PRISM data (year 2000): (366, 1849, 1458)\n",
      "2024-12-16 07:31:37,594 - INFO - Extracting PRISM data for the year 2000.\n",
      "2024-12-16 07:31:52,494 - INFO - Mask shape: (1849, 1458)\n",
      "2024-12-16 07:31:52,495 - INFO - Size of the PRISM data after cropping (year 2000): (366, 1849, 1458), (366, 1849, 1458), (366, 1849, 1458)\n",
      "2024-12-16 07:31:56,091 - INFO - Size of the original PRISM data (year 2001): (365, 1849, 1458)\n",
      "2024-12-16 07:31:56,092 - INFO - Extracting PRISM data for the year 2001.\n",
      "2024-12-16 07:32:10,938 - INFO - Mask shape: (1849, 1458)\n",
      "2024-12-16 07:32:10,939 - INFO - Size of the PRISM data after cropping (year 2001): (365, 1849, 1458), (365, 1849, 1458), (365, 1849, 1458)\n"
     ]
    },
    {
     "name": "stdout",
     "output_type": "stream",
     "text": [
      "ppt shape: (365, 1849, 1458), tmax shape: (365, 1849, 1458), tmin shape: (365, 1849, 1458)\n"
     ]
    },
    {
     "name": "stderr",
     "output_type": "stream",
     "text": [
      "2024-12-16 07:32:22,688 - INFO - loaded PRISM data shape: (731, 1849, 1458), (731, 1849, 1458), (731, 1849, 1458)\n"
     ]
    },
    {
     "name": "stdout",
     "output_type": "stream",
     "text": [
      "#################Aggregation method: monthly#################\n"
     ]
    },
    {
     "name": "stderr",
     "output_type": "stream",
     "text": [
      "2024-12-16 07:32:26,456 - INFO - Aggregated data shape (monthly): (24, 1849, 1458), (24, 1849, 1458), (24, 1849, 1458)\n",
      "2024-12-16 07:32:26,498 - INFO - Aggregated data shape: (24, 1849, 1458), (24, 1849, 1458), (24, 1849, 1458)\n"
     ]
    }
   ],
   "source": [
    "############################  example of loading PRISM data ###################################\n",
    "import sys \n",
    "sys.path.append('/data/SWATGenXApp/codes/HydroGeoDataset')\n",
    "from HydroGeoDataset.core import DataImporter\n",
    "import matplotlib.pyplot as plt\n",
    "import numpy as np\n",
    "\n",
    "## NOTE: method for downscaling PRISM is nearest neighbor and have done with Arcpy. Note thate resampling of PRISM happened beforer H5 creation\n",
    "## PRISM data is in mm/day, C, C\n",
    "config = { \n",
    "    \"RESOLUTION\": 250,  ## resolution of the PRISM data\n",
    "    \"huc8\": None,\n",
    "    \"video\": False, ## if True, it will show the video of the PRISM data\n",
    "    \"aggregation\": \"monthly\", ## aggregation of the PRISM data can be daily, monthly, yearly\n",
    "    \"start_year\": 2000,\n",
    "    \"end_year\": 2001,\n",
    "}\n",
    "importer = DataImporter(config)\n",
    "############################## example of loading PRISM data ###################################\n",
    "pr_prism, tmax_prism, tmin_prism = importer.PRISM() "
   ]
  },
  {
   "cell_type": "code",
   "execution_count": 1,
   "metadata": {},
   "outputs": [
    {
     "name": "stderr",
     "output_type": "stream",
     "text": [
      "2024-12-16 08:10:18,562 - INFO - Mask shape: (1849, 1458)\n",
      "2024-12-16 08:10:18,564 - INFO - Attempting to load climate data for ACCESS-CM2, historical, r2i1p1f1, daily, 1950_2014.\n",
      "2024-12-16 08:10:18,584 - INFO - Size of the climate data: (731, 67, 75), (731, 67, 75), (731, 67, 75)\n",
      "2024-12-16 08:10:18,591 - INFO - Replication factors: (28, 20)\n"
     ]
    },
    {
     "name": "stdout",
     "output_type": "stream",
     "text": [
      "rows: 1849, cols: 1458\n"
     ]
    },
    {
     "name": "stderr",
     "output_type": "stream",
     "text": [
      "2024-12-16 08:10:21,215 - INFO - Size of the climate data after replication: (731, 1876, 1500), (731, 1876, 1500), (731, 1876, 1500)\n",
      "2024-12-16 08:10:24,074 - INFO - Flipping completed.\n",
      "2024-12-16 08:10:24,076 - INFO - Shape before cropping: (731, 1876, 1500), (731, 1876, 1500), (731, 1876, 1500)\n",
      "2024-12-16 08:10:24,076 - INFO - Size of the climate data after cropping: (731, 1849, 1458), (731, 1849, 1458), (731, 1849, 1458)\n"
     ]
    },
    {
     "name": "stdout",
     "output_type": "stream",
     "text": [
      "#################Aggregation method: monthly#################\n"
     ]
    },
    {
     "name": "stderr",
     "output_type": "stream",
     "text": [
      "2024-12-16 08:10:42,165 - INFO - Aggregated data shape (monthly): (24, 1849, 1458), (24, 1849, 1458), (24, 1849, 1458)\n",
      "2024-12-16 08:10:42,204 - INFO - Aggregated data shape: (24, 1849, 1458), (24, 1849, 1458), (24, 1849, 1458)\n"
     ]
    }
   ],
   "source": [
    "####################### example of loading LOCA2 data ###################################\n",
    "import sys \n",
    "sys.path.append('/data/SWATGenXApp/codes/HydroGeoDataset')\n",
    "from HydroGeoDataset.core import DataImporter\n",
    "import os \n",
    "import numpy as np\n",
    "\n",
    "## NOTE: method for downscaling LOCA2 is nearest neighbor and have done with numpy opeations. Note that the resampling of LOCA2 happens in HydroGeoDataset.py\n",
    "## NOTE: actual data unit in LOCA2 is kg m-2 s-1 for precipitation and K for temperature. We convert them to mm and C respectively in HydroGeoDataset.py\n",
    "\n",
    "\n",
    "config = {\n",
    "        \"RESOLUTION\": 250,\n",
    "        \"huc8\": None,\n",
    "        \"video\": False,\n",
    "        \"aggregation\": \"monthly\",\n",
    "    }\n",
    "\n",
    "importer = DataImporter(config)\n",
    "### NOTE: the list of all models and their ensemble is in /data/LOCA2/list_of_all_models.txt\n",
    "start_year = 2000\n",
    "end_year = 2001\n",
    "cc_model = \"ACCESS-CM2\"\n",
    "scenario = \"historical\"\n",
    "ensemble = \"r2i1p1f1\"\n",
    "\n",
    "ppt_loca2, tmax_loca2, tmin_loca2 = importer.LOCA2(start_year=start_year, end_year=end_year, cc_model= cc_model, scenario=scenario, ensemble=ensemble, cc_time_step='daily')\n",
    "\n"
   ]
  },
  {
   "cell_type": "code",
   "execution_count": 1,
   "metadata": {},
   "outputs": [
    {
     "name": "stdout",
     "output_type": "stream",
     "text": [
      "Opening the HDF5 file: /data/MyDataBase/HydroGeoDataset/HydroGeoDataset_ML_250.h5\n",
      "Total number of datasets: 276\n",
      "Extracting dataset: MODIS_ET_2001-01-01_to_2001-01-31_006_250m\n",
      "Extracting dataset: MODIS_ET_2001-02-01_to_2001-02-28_006_250m\n",
      "Extracting dataset: MODIS_ET_2001-03-01_to_2001-03-31_006_250m\n",
      "Extracting dataset: MODIS_ET_2001-04-01_to_2001-04-30_006_250m\n",
      "Extracting dataset: MODIS_ET_2001-05-01_to_2001-05-31_006_250m\n",
      "Extracting dataset: MODIS_ET_2001-06-01_to_2001-06-30_006_250m\n",
      "Extracting dataset: MODIS_ET_2001-07-01_to_2001-07-31_006_250m\n",
      "Extracting dataset: MODIS_ET_2001-08-01_to_2001-08-31_006_250m\n",
      "Extracting dataset: MODIS_ET_2001-09-01_to_2001-09-30_006_250m\n",
      "Extracting dataset: MODIS_ET_2001-10-01_to_2001-10-31_006_250m\n",
      "Extracting dataset: MODIS_ET_2001-11-01_to_2001-11-30_006_250m\n",
      "Extracting dataset: MODIS_ET_2001-12-01_to_2001-12-31_006_250m\n",
      "Extracting dataset: MODIS_ET_2002-01-01_to_2002-01-31_006_250m\n",
      "Extracting dataset: MODIS_ET_2002-02-01_to_2002-02-28_006_250m\n",
      "Extracting dataset: MODIS_ET_2002-03-01_to_2002-03-31_006_250m\n",
      "Extracting dataset: MODIS_ET_2002-04-01_to_2002-04-30_006_250m\n",
      "Extracting dataset: MODIS_ET_2002-05-01_to_2002-05-31_006_250m\n",
      "Extracting dataset: MODIS_ET_2002-06-01_to_2002-06-30_006_250m\n",
      "Extracting dataset: MODIS_ET_2002-07-01_to_2002-07-31_006_250m\n",
      "Extracting dataset: MODIS_ET_2002-08-01_to_2002-08-31_006_250m\n",
      "Extracting dataset: MODIS_ET_2002-09-01_to_2002-09-30_006_250m\n",
      "Extracting dataset: MODIS_ET_2002-10-01_to_2002-10-31_006_250m\n",
      "Extracting dataset: MODIS_ET_2002-11-01_to_2002-11-30_006_250m\n",
      "Extracting dataset: MODIS_ET_2002-12-01_to_2002-12-31_006_250m\n",
      "Total number of datasets extracted: 24\n",
      "Shape of the extracted data: (24, 1849, 1458)\n"
     ]
    }
   ],
   "source": [
    "import sys \n",
    "sys.path.append('/data/SWATGenXApp/codes/HydroGeoDataset')\n",
    "from HydroGeoDataset.core import DataImporter\n",
    "\n",
    "### get MODIS Evapotranspiration data\n",
    "config = {\n",
    "    \"RESOLUTION\": 250,\n",
    "    \"huc8\": None,\n",
    "    \"video\": False,\n",
    "}\n",
    "\n",
    "importer = DataImporter(config)\n",
    "start_year = 2000\n",
    "end_year = 2002\n",
    "et_modis = importer.MODIS_ET(start_year=start_year, end_year=end_year,  h5_group_name=\"MODIS/MODIS_ET\")\n",
    "\n",
    "\n",
    "\n"
   ]
  },
  {
   "cell_type": "code",
   "execution_count": 1,
   "metadata": {},
   "outputs": [
    {
     "name": "stderr",
     "output_type": "stream",
     "text": [
      "2024-12-16 21:47:22,304 - INFO - HydroGeoDataSet250: range of lat and lon for the required huc8: (np.float32(45.787315), np.float32(44.53926), np.float32(-84.56869), np.float32(-85.73141))\n"
     ]
    },
    {
     "name": "stdout",
     "output_type": "stream",
     "text": [
      "attempting to open database: /data/MyDataBase/HydroGeoDataset/HydroGeoDataset_ML_250.h5\n",
      "loaded row_min: 29, row_max: 582, col_min: 390, col_max: 757\n"
     ]
    },
    {
     "name": "stderr",
     "output_type": "stream",
     "text": [
      "2024-12-16 21:47:23,079 - INFO - Groundwater head shape: (365, 553, 367)\n",
      "2024-12-16 21:47:23,080 - INFO - Importing static data\n",
      "--- Logging error ---\n",
      "Traceback (most recent call last):\n",
      "  File \"/usr/lib/python3.10/logging/__init__.py\", line 1100, in emit\n",
      "    msg = self.format(record)\n",
      "  File \"/usr/lib/python3.10/logging/__init__.py\", line 943, in format\n",
      "    return fmt.format(record)\n",
      "  File \"/usr/lib/python3.10/logging/__init__.py\", line 678, in format\n",
      "    record.message = record.getMessage()\n",
      "  File \"/usr/lib/python3.10/logging/__init__.py\", line 368, in getMessage\n",
      "    msg = msg % self.args\n",
      "TypeError: not all arguments converted during string formatting\n",
      "Call stack:\n",
      "  File \"/usr/lib/python3.10/runpy.py\", line 196, in _run_module_as_main\n",
      "    return _run_code(code, main_globals, None,\n",
      "  File \"/usr/lib/python3.10/runpy.py\", line 86, in _run_code\n",
      "    exec(code, run_globals)\n",
      "  File \"/data/SWATGenXApp/codes/.venv/lib/python3.10/site-packages/ipykernel_launcher.py\", line 18, in <module>\n",
      "    app.launch_new_instance()\n",
      "  File \"/data/SWATGenXApp/codes/.venv/lib/python3.10/site-packages/traitlets/config/application.py\", line 1075, in launch_instance\n",
      "    app.start()\n",
      "  File \"/data/SWATGenXApp/codes/.venv/lib/python3.10/site-packages/ipykernel/kernelapp.py\", line 739, in start\n",
      "    self.io_loop.start()\n",
      "  File \"/data/SWATGenXApp/codes/.venv/lib/python3.10/site-packages/tornado/platform/asyncio.py\", line 205, in start\n",
      "    self.asyncio_loop.run_forever()\n",
      "  File \"/usr/lib/python3.10/asyncio/base_events.py\", line 603, in run_forever\n",
      "    self._run_once()\n",
      "  File \"/usr/lib/python3.10/asyncio/base_events.py\", line 1909, in _run_once\n",
      "    handle._run()\n",
      "  File \"/usr/lib/python3.10/asyncio/events.py\", line 80, in _run\n",
      "    self._context.run(self._callback, *self._args)\n",
      "  File \"/data/SWATGenXApp/codes/.venv/lib/python3.10/site-packages/ipykernel/kernelbase.py\", line 545, in dispatch_queue\n",
      "    await self.process_one()\n",
      "  File \"/data/SWATGenXApp/codes/.venv/lib/python3.10/site-packages/ipykernel/kernelbase.py\", line 534, in process_one\n",
      "    await dispatch(*args)\n",
      "  File \"/data/SWATGenXApp/codes/.venv/lib/python3.10/site-packages/ipykernel/kernelbase.py\", line 437, in dispatch_shell\n",
      "    await result\n",
      "  File \"/data/SWATGenXApp/codes/.venv/lib/python3.10/site-packages/ipykernel/ipkernel.py\", line 362, in execute_request\n",
      "    await super().execute_request(stream, ident, parent)\n",
      "  File \"/data/SWATGenXApp/codes/.venv/lib/python3.10/site-packages/ipykernel/kernelbase.py\", line 778, in execute_request\n",
      "    reply_content = await reply_content\n",
      "  File \"/data/SWATGenXApp/codes/.venv/lib/python3.10/site-packages/ipykernel/ipkernel.py\", line 449, in do_execute\n",
      "    res = shell.run_cell(\n",
      "  File \"/data/SWATGenXApp/codes/.venv/lib/python3.10/site-packages/ipykernel/zmqshell.py\", line 549, in run_cell\n",
      "    return super().run_cell(*args, **kwargs)\n",
      "  File \"/data/SWATGenXApp/codes/.venv/lib/python3.10/site-packages/IPython/core/interactiveshell.py\", line 3075, in run_cell\n",
      "    result = self._run_cell(\n",
      "  File \"/data/SWATGenXApp/codes/.venv/lib/python3.10/site-packages/IPython/core/interactiveshell.py\", line 3130, in _run_cell\n",
      "    result = runner(coro)\n",
      "  File \"/data/SWATGenXApp/codes/.venv/lib/python3.10/site-packages/IPython/core/async_helpers.py\", line 128, in _pseudo_sync_runner\n",
      "    coro.send(None)\n",
      "  File \"/data/SWATGenXApp/codes/.venv/lib/python3.10/site-packages/IPython/core/interactiveshell.py\", line 3334, in run_cell_async\n",
      "    has_raised = await self.run_ast_nodes(code_ast.body, cell_name,\n",
      "  File \"/data/SWATGenXApp/codes/.venv/lib/python3.10/site-packages/IPython/core/interactiveshell.py\", line 3517, in run_ast_nodes\n",
      "    if await self.run_code(code, result, async_=asy):\n",
      "  File \"/data/SWATGenXApp/codes/.venv/lib/python3.10/site-packages/IPython/core/interactiveshell.py\", line 3577, in run_code\n",
      "    exec(code_obj, self.user_global_ns, self.user_ns)\n",
      "  File \"/tmp/ipykernel_784947/1999299527.py\", line 14, in <module>\n",
      "    gw_station_data = importer.gw_stations_ds(start_year=1990, end_year=2021)\n",
      "  File \"/data/SWATGenXApp/codes/HydroGeoDataset/core.py\", line 322, in gw_stations_ds\n",
      "    numerical, categorical, _ = self.import_static_data(huc8=False)\n",
      "  File \"/data/SWATGenXApp/codes/HydroGeoDataset/core.py\", line 1102, in import_static_data\n",
      "    groups = self.apply_categorical_encoding(np.array(f[f\"geospatial/COUNTY_{self.config['RESOLUTION']}m\"][:][row_min:row_max, col_min:col_max]), f\"COUNTY_{self.config['RESOLUTION']}m\")\n",
      "  File \"/data/SWATGenXApp/codes/HydroGeoDataset/core.py\", line 931, in apply_categorical_encoding\n",
      "    logging.info(f\"###Categorical {array_name}:\", \"shape:\", array2d.shape)\n",
      "Message: '###Categorical COUNTY_250m:'\n",
      "Arguments: ('shape:', (1848, 1457))\n",
      "2024-12-16 21:47:23,151 - INFO - Numerical data shape: (0,)\n",
      "2024-12-16 21:47:23,152 - INFO - Categorical data shape: (0,)\n",
      "2024-12-16 21:47:23,152 - INFO - Groups data shape: (1848, 1457)\n",
      "2024-12-16 21:47:23,153 - INFO - ## stations: <KeysViewHDF5 ['414452083385201_1824_1060', '414601083375801_1815_1064', '414748083305501_1802_1106', '415133083274801_1774_1120', '415154084315401_1767_747', '415156083441501_1772_1029', '415206083414401_1767_1043', '415235083414001_1767_1044', '415318085243401_1760_474', '415431083343201_1752_1083', '415527083402001_1745_1051', '415602084593701_1741_612', '415721083331601_1731_1090', '420503083192101_1673_1166', '420838085344501_1646_419', '421150085383901_1622_398', '421150085383902_1622_398', '421151085351601_1622_417', '421203085370401_1621_407', '421220083332501_1620_1088', '421228083331601_1619_1089', '421249085330901_1615_429', '421322083441301_1613_1028', '421325085404801_1610_387', '421332085401901_1609_389', '421332085401902_1609_389', '421346084230801_1611_814', '421427083362301_1605_1071', '421435085353701_1602_415', '421435085353702_1602_415', '421448085383601_1600_399', '421457085325801_1599_430', '421532083382001_1597_1060', '421552085384001_1592_399', '421552085384002_1592_399', '421614085270801_1590_462', '421614085354001_1590_415', '421641085350601_1586_418', '421716085373702_1582_404', '421800085394208_1576_393', '421800085394210_1576_393', '421850084043001_1572_916', '421918085283801_1568_454', '422021085081101_1561_567', '422032085091801_1560_560', '422033085082601_1560_565', '422033085082602_1560_565', '422056085211701_1556_495', '422200083023901_1547_1256', '422200083023902_1547_1256', '422201083023701_1546_1256', '422201083023702_1546_1256', '422202083023101_1546_1257', '422202083023102_1546_1257', '422202083023301_1546_1257', '422202083023302_1546_1256', '422202083023303_1546_1256', '422202083023305_1546_1256', '422202083023701_1546_1256', '422202083023702_1546_1256', '422203083023301_1546_1256', '422203083023304_1546_1256', '422203083023401_1546_1256', '422203083023402_1546_1256', '422203083023403_1546_1256', '422203083023601_1546_1256', '422203083023602_1546_1256', '422203083023603_1546_1256', '422206083024401_1546_1256', '422206083024402_1546_1256', '422207083023501_1546_1256', '422207083023502_1546_1256', '422207083024101_1546_1256', '422207083024102_1546_1256', '422209083023601_1545_1256', '422209083023602_1545_1256', '422853083402801_1498_1048', '423127084321901_1387_761', '423423083324001_1457_1090', '423532084274001_1450_790', '423622083390701_1443_1055', '423805084311801_1431_769', '424015083130601_1412_1197', '424040084351401_1412_748', '424058084380301_1409_733', '424108084363201_1408_741', '424109083384301_1407_1057', '424133083293101_1408_1107', '424225084261401_1399_797', '424235084311201_1398_770', '424303084295001_1394_777', '424324084331801_1391_759', '424424084340301_1384_754', '424435084365001_1383_739', '424502084331301_1379_759', '424521084342101_1377_753', '424525084393401_1376_724', '425116083321501_1333_1091', '425552083382801_1298_1057', '431457084194401_1158_833', '431548086160201_1145_203', '431553086155701_1144_204', '431556086160101_1144_203', '432206084194801_1105_832', '433133086082601_1029_247', '433439082523601_1008_1302', '433552084415401_1003_713', '433554084415401_1002_713', '433604084412501_1001_716', '433622084420801_999_712', '434103083130301_963_1191', '434323082561901_943_1281', '434900084462501_905_689', '434947083233301_899_1134', '435615085173501_850_523', '435657085171201_845_525', '435736083094801_839_1206', '442659083212901_622_1141', '442700083312801_623_1088', '442722084350701_617_751', '443308084245001_579_805', '443921085213501_531_505', '445011086031401_447_286', '450850083393401_313_1043', '451304084232901_281_812']>\n",
      "2024-12-16 21:47:23,155 - INFO - ## station: 414452083385201_1824_1060 with shape: (11315,) and %4.02 observations. \n"
     ]
    },
    {
     "name": "stdout",
     "output_type": "stream",
     "text": [
      "Numerical shape: (0,), Categorical shape: (0,)\n"
     ]
    },
    {
     "ename": "IndexError",
     "evalue": "too many indices for array: array is 1-dimensional, but 3 were indexed",
     "output_type": "error",
     "traceback": [
      "\u001b[0;31m---------------------------------------------------------------------------\u001b[0m",
      "\u001b[0;31mIndexError\u001b[0m                                Traceback (most recent call last)",
      "Cell \u001b[0;32mIn[1], line 14\u001b[0m\n\u001b[1;32m     10\u001b[0m importer \u001b[38;5;241m=\u001b[39m DataImporter(config)\n\u001b[1;32m     12\u001b[0m gw_3d_ds \u001b[38;5;241m=\u001b[39m importer\u001b[38;5;241m.\u001b[39mgw_3d_ds(start_year\u001b[38;5;241m=\u001b[39m\u001b[38;5;241m2020\u001b[39m, end_year\u001b[38;5;241m=\u001b[39m\u001b[38;5;241m2021\u001b[39m)\n\u001b[0;32m---> 14\u001b[0m gw_station_data \u001b[38;5;241m=\u001b[39m \u001b[43mimporter\u001b[49m\u001b[38;5;241;43m.\u001b[39;49m\u001b[43mgw_stations_ds\u001b[49m\u001b[43m(\u001b[49m\u001b[43mstart_year\u001b[49m\u001b[38;5;241;43m=\u001b[39;49m\u001b[38;5;241;43m1990\u001b[39;49m\u001b[43m,\u001b[49m\u001b[43m \u001b[49m\u001b[43mend_year\u001b[49m\u001b[38;5;241;43m=\u001b[39;49m\u001b[38;5;241;43m2021\u001b[39;49m\u001b[43m)\u001b[49m\n\u001b[1;32m     16\u001b[0m \u001b[38;5;28mprint\u001b[39m(\u001b[38;5;124mf\u001b[39m\u001b[38;5;124m\"\u001b[39m\u001b[38;5;124mnumerical feature: \u001b[39m\u001b[38;5;132;01m{\u001b[39;00mgw_station_data[\u001b[38;5;124m'\u001b[39m\u001b[38;5;124m421332085401901_1609_389\u001b[39m\u001b[38;5;124m'\u001b[39m][\u001b[38;5;124m'\u001b[39m\u001b[38;5;124mnumerical_feature\u001b[39m\u001b[38;5;124m'\u001b[39m]\u001b[38;5;132;01m}\u001b[39;00m\u001b[38;5;124m\"\u001b[39m)\n\u001b[1;32m     17\u001b[0m \u001b[38;5;28mprint\u001b[39m(\u001b[38;5;124mf\u001b[39m\u001b[38;5;124m\"\u001b[39m\u001b[38;5;124mcategorical feature: \u001b[39m\u001b[38;5;132;01m{\u001b[39;00mgw_station_data[\u001b[38;5;124m'\u001b[39m\u001b[38;5;124m421332085401901_1609_389\u001b[39m\u001b[38;5;124m'\u001b[39m][\u001b[38;5;124m'\u001b[39m\u001b[38;5;124mcategorical_feature\u001b[39m\u001b[38;5;124m'\u001b[39m]\u001b[38;5;132;01m}\u001b[39;00m\u001b[38;5;124m\"\u001b[39m)\n",
      "File \u001b[0;32m/data/SWATGenXApp/codes/HydroGeoDataset/core.py:338\u001b[0m, in \u001b[0;36mDataImporter.gw_stations_ds\u001b[0;34m(self, stations, start_year, end_year)\u001b[0m\n\u001b[1;32m    336\u001b[0m row \u001b[38;5;241m=\u001b[39m station\u001b[38;5;241m.\u001b[39msplit(\u001b[38;5;124m'\u001b[39m\u001b[38;5;124m_\u001b[39m\u001b[38;5;124m'\u001b[39m)[\u001b[38;5;241m1\u001b[39m]\n\u001b[1;32m    337\u001b[0m col \u001b[38;5;241m=\u001b[39m station\u001b[38;5;241m.\u001b[39msplit(\u001b[38;5;124m'\u001b[39m\u001b[38;5;124m_\u001b[39m\u001b[38;5;124m'\u001b[39m)[\u001b[38;5;241m2\u001b[39m]\n\u001b[0;32m--> 338\u001b[0m numerical_feature \u001b[38;5;241m=\u001b[39m  \u001b[43mnumerical\u001b[49m\u001b[43m[\u001b[49m\u001b[43m:\u001b[49m\u001b[43m,\u001b[49m\u001b[43m \u001b[49m\u001b[38;5;28;43mint\u001b[39;49m\u001b[43m(\u001b[49m\u001b[43mrow\u001b[49m\u001b[43m)\u001b[49m\u001b[43m,\u001b[49m\u001b[43m \u001b[49m\u001b[38;5;28;43mint\u001b[39;49m\u001b[43m(\u001b[49m\u001b[43mcol\u001b[49m\u001b[43m)\u001b[49m\u001b[43m]\u001b[49m\n\u001b[1;32m    339\u001b[0m categorical_feature \u001b[38;5;241m=\u001b[39m categorical[:, \u001b[38;5;28mint\u001b[39m(row), \u001b[38;5;28mint\u001b[39m(col)]\n\u001b[1;32m    341\u001b[0m \u001b[38;5;66;03m## if all nan, return None\u001b[39;00m\n",
      "\u001b[0;31mIndexError\u001b[0m: too many indices for array: array is 1-dimensional, but 3 were indexed"
     ]
    }
   ],
   "source": [
    "\t\n",
    "import sys \n",
    "sys.path.append('/data/SWATGenXApp/codes/HydroGeoDataset')\n",
    "from HydroGeoDataset.core import DataImporter\n",
    "\n",
    "config = {\n",
    "\t\t\"RESOLUTION\": 250,\n",
    "\t\t\"huc8\": \"4060105\",\n",
    "\t\t#\"video\": True,\n",
    "\t}\n",
    "importer = DataImporter(config)\n",
    "\n",
    "gw_3d_ds = importer.gw_3d_ds(start_year=2020, end_year=2021)\n",
    "\n",
    "gw_station_data = importer.gw_stations_ds(start_year=1990, end_year=2021)\n",
    "\n",
    "print(f\"numerical feature: {gw_station_data['421332085401901_1609_389']['numerical_feature']}\")\n",
    "print(f\"categorical feature: {gw_station_data['421332085401901_1609_389']['categorical_feature']}\")\n",
    "print(f\"head: {gw_station_data['421332085401901_1609_389']}\")\n"
   ]
  }
 ],
 "metadata": {
  "kernelspec": {
   "display_name": ".venv",
   "language": "python",
   "name": "python3"
  },
  "language_info": {
   "codemirror_mode": {
    "name": "ipython",
    "version": 3
   },
   "file_extension": ".py",
   "mimetype": "text/x-python",
   "name": "python",
   "nbconvert_exporter": "python",
   "pygments_lexer": "ipython3",
   "version": "3.10.12"
  }
 },
 "nbformat": 4,
 "nbformat_minor": 2
}
