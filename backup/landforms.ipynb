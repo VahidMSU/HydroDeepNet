{
 "cells": [
  {
   "cell_type": "code",
   "execution_count": 7,
   "id": "ba926c2b-07fe-4f2b-9bec-5c211c82fd50",
   "metadata": {},
   "outputs": [
    {
     "data": {
      "text/plain": [
       "'CheckedIn'"
      ]
     },
     "execution_count": 7,
     "metadata": {},
     "output_type": "execute_result"
    }
   ],
   "source": [
    "import arcpy\n",
    "from arcpy import env\n",
    "from arcpy.sa import *\n",
    "import os\n",
    "\n",
    "# Check out the ArcGIS Spatial Analyst extension license\n",
    "arcpy.CheckOutExtension(\"Spatial\")\n",
    "\n",
    "# Set overwrite option\n",
    "arcpy.env.overwriteOutput = True\n",
    "\n",
    "# Set workspace\n",
    "workspace = \"C:/Users/rafieiva/OneDrive - Michigan State University/Desktop/GW_data_interpolated\"\n",
    "arcpy.env.workspace = workspace\n",
    "\n",
    "# Input DEM raster\n",
    "in_surface_raster = os.path.join(workspace, 'DEM/DEM_10m.tif')\n",
    "\n",
    "# Parameters for GeomorphonLandforms\n",
    "angle_threshold = 1\n",
    "distance_units = \"METERS\"\n",
    "search_distance = 250\n",
    "skip_distance = 125\n",
    "z_unit = \"METER\"\n",
    "\n",
    "# Output rasters\n",
    "out_geomorphons_raster = os.path.join(workspace, \"Geomorphology/geomorphons_10m_250Dis.tif\")\n",
    "out_landforms_raster = os.path.join(workspace, \"Geomorphology/landforms_10m_250Dis.tif\")\n",
    "\n",
    "# Calculate aspect and slope\n",
    "out_aspect_raster = os.path.join(workspace, \"Geomorphology/aspect_10m.tif\")\n",
    "out_slope_raster = os.path.join(workspace, \"Geomorphology/slope_10m.tif\")\n",
    "\n",
    "# Execute Aspect\n",
    "arcpy.Aspect_3d(in_surface_raster, out_aspect_raster)\n",
    "\n",
    "# Execute Slope\n",
    "arcpy.Slope_3d(in_surface_raster, out_slope_raster)\n",
    "\n",
    "# Execute GeomorphonLandforms\n",
    "#outGeomorphonLandforms = GeomorphonLandforms(in_surface_raster, out_geomorphons_raster, angle_threshold, distance_units, search_distance, skip_distance, z_unit)\n",
    "#outGeomorphonLandforms.save(out_landforms_raster)\n",
    "\n",
    "# Check back in the ArcGIS Spatial Analyst extension license\n",
    "arcpy.CheckInExtension(\"Spatial\")\n"
   ]
  },
  {
   "cell_type": "code",
   "execution_count": 8,
   "id": "7f809dbb-c46d-4d0b-af61-09000ac3de80",
   "metadata": {},
   "outputs": [
    {
     "data": {
      "text/plain": [
       "'CheckedIn'"
      ]
     },
     "execution_count": 8,
     "metadata": {},
     "output_type": "execute_result"
    }
   ],
   "source": [
    "import arcpy\n",
    "from arcpy import env\n",
    "from arcpy.sa import *\n",
    "import os\n",
    "\n",
    "# Check out the ArcGIS Spatial Analyst extension license\n",
    "arcpy.CheckOutExtension(\"Spatial\")\n",
    "\n",
    "# Set overwrite option\n",
    "arcpy.env.overwriteOutput = True\n",
    "\n",
    "# Set workspace\n",
    "workspace = \"C:/Users/rafieiva/OneDrive - Michigan State University/Desktop/GW_data_interpolated\"\n",
    "arcpy.env.workspace = workspace\n",
    "\n",
    "# Input DEM raster\n",
    "in_surface_raster = os.path.join(workspace, 'DEM/DEM_30m.tif')\n",
    "\n",
    "# Parameters for GeomorphonLandforms\n",
    "angle_threshold = 1\n",
    "distance_units = \"METERS\"\n",
    "search_distance = 250\n",
    "skip_distance = 125\n",
    "z_unit = \"METER\"\n",
    "\n",
    "# Output rasters\n",
    "out_geomorphons_raster = os.path.join(workspace, \"Geomorphology/geomorphons_30m_250Dis.tif\")\n",
    "out_landforms_raster = os.path.join(workspace, \"Geomorphology/landforms_30m_250Dis.tif\")\n",
    "\n",
    "# Calculate aspect and slope\n",
    "out_aspect_raster = os.path.join(workspace, \"Geomorphology/aspect_30m.tif\")\n",
    "out_slope_raster = os.path.join(workspace, \"Geomorphology/slope_30m.tif\")\n",
    "\n",
    "# Execute Aspect\n",
    "arcpy.Aspect_3d(in_surface_raster, out_aspect_raster)\n",
    "\n",
    "# Execute Slope\n",
    "arcpy.Slope_3d(in_surface_raster, out_slope_raster)\n",
    "\n",
    "# Execute GeomorphonLandforms\n",
    "#outGeomorphonLandforms = GeomorphonLandforms(in_surface_raster, out_geomorphons_raster, angle_threshold, distance_units, search_distance, skip_distance, z_unit)\n",
    "#outGeomorphonLandforms.save(out_landforms_raster)\n",
    "\n",
    "# Check back in the ArcGIS Spatial Analyst extension license\n",
    "arcpy.CheckInExtension(\"Spatial\")\n"
   ]
  },
  {
   "cell_type": "code",
   "execution_count": null,
   "id": "b5b9167c-2c3d-4510-9bd3-4e30f30ad235",
   "metadata": {},
   "outputs": [],
   "source": []
  }
 ],
 "metadata": {
  "kernelspec": {
   "display_name": "Python 3 (ipykernel)",
   "language": "python",
   "name": "python3"
  },
  "language_info": {
   "codemirror_mode": {
    "name": "ipython",
    "version": 3
   },
   "file_extension": ".py",
   "mimetype": "text/x-python",
   "name": "python",
   "nbconvert_exporter": "python",
   "pygments_lexer": "ipython3",
   "version": "3.9.16"
  }
 },
 "nbformat": 4,
 "nbformat_minor": 5
}
