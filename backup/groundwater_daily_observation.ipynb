{
    "cells": [
        {
            "cell_type": "code",
            "execution_count": 1,
            "id": "05a68534-3115-4b41-b640-ad228e1b01b5",
            "metadata": {},
            "outputs": [
                {
                    "name": "stderr",
                    "output_type": "stream",
                    "text": [
                        "C:\\Users\\rafieiva\\AppData\\Local\\Temp\\2\\ipykernel_95632\\1584377393.py:34: UserWarning: Column names longer than 10 characters will be truncated when saved to ESRI Shapefile.\n",
                        "  site_locations_gdf.to_file(r'/data/MyDataBase/SWATGenXAppData/groundwater_daily_stations/statons_location')\n"
                    ]
                }
            ],
            "source": [
                "##### creating shapefile out of gw site description file\n",
                "import pandas as pd\n",
                "import geopandas as gpd\n",
                "from shapely.geometry import Point\n",
                "fit_to_meter = 0.3048\n",
                "# Path to the groundwater daily stations site locations\n",
                "gw_daily_path = r'/data/MyDataBase/SWATGenXAppData/groundwater_daily_stations/site_locations'\n",
                "# Read the CSV, skipping the first 30 rows and using tab as separator\n",
                "site_locations = pd.read_csv(gw_daily_path, skiprows=27, sep='\\t')\n",
                "# Selecting only the required columns\n",
                "site_locations = site_locations[['site_no', 'dec_lat_va', 'dec_long_va', 'dec_coord_datum_cd','alt_va']]\n",
                "# Create a 'geometry' column with Points made from latitude and longitude\n",
                "site_locations['geometry'] = site_locations.apply(lambda row: Point(row.dec_long_va, row.dec_lat_va), axis=1)\n",
                "# Convert DataFrame to GeoDataFrame, setting the original coordinate reference system (CRS) to 'EPSG:4269' for NAD83\n",
                "site_locations_gdf = gpd.GeoDataFrame(site_locations, geometry='geometry', crs='EPSG:4269')\n",
                "# Transforming the GeoDataFrame to the new CRS 'EPSG:26990'\n",
                "site_locations_gdf['alt_va_m'] = fit_to_meter*site_locations_gdf['alt_va']\n",
                "site_locations_gdf['alt_va_f'] = site_locations_gdf['alt_va']\n",
                "site_locations_gdf = site_locations_gdf.drop(columns='alt_va')\n",
                "site_locations_gdf = site_locations_gdf.to_crs('EPSG:26990')\n",
                "\n",
                "huc12 = pd.read_pickle(r'D:\\MyDataBase\\NHDPlusData\\WBDHU12.pkl')\n",
                "huc8 = pd.read_pickle(r'D:\\MyDataBase\\NHDPlusData\\WBDHU8.pkl')\n",
                "watersheds = pd.read_pickle(r'D:\\MyDataBase\\NHDPlusData\\watersheds.pkl')\n",
                "\n",
                "site_locations_gdf = site_locations_gdf.sjoin(watersheds[['NHDPlusID','geometry']]).drop(columns = 'index_right')\n",
                "site_locations_gdf = site_locations_gdf.sjoin(huc8[['huc8','geometry']]).drop(columns = 'index_right')\n",
                "site_locations_gdf = site_locations_gdf.sjoin(huc12[['huc12','geometry']]).drop(columns = 'index_right')\n",
                "\n",
                "site_locations_gdf['huc12'] = site_locations_gdf['huc12'].astype('int64')\n",
                "site_locations_gdf['huc8'] = site_locations_gdf['huc8'].astype('int64')\n",
                "site_locations_gdf['NHDPlusID'] = site_locations_gdf['NHDPlusID'].astype('int64')\n",
                "\n",
                "site_locations_gdf.to_file(r'/data/MyDataBase/SWATGenXAppData/groundwater_daily_stations/statons_location')"
            ]
        },
        {
            "cell_type": "code",
            "execution_count": 2,
            "id": "f243c4d0-3bfc-4008-9cc5-fdeae045a173",
            "metadata": {},
            "outputs": [],
            "source": [
                "from datetime import datetime\n",
                "import pandas as pd\n",
                "\n",
                "site_id = []\n",
                "date = []\n",
                "wl_f = []\n",
                "\n",
                "with open('/data/MyDataBase/SWATGenXAppData/groundwater_daily_stations/gw_daily', 'r') as file:\n",
                "    lines = file.readlines()\n",
                "    for line in lines:\n",
                "        if line.split()[0] == 'USGS':\n",
                "            site_id.append(line.split('\\t')[1])\n",
                "            date.append(line.split('\\t')[2])  # YYYY-MM-DD : 2002-06-18\n",
                "            wl_f.append(line.split('\\t')[3])  # Feet below land surface\n",
                "    \n",
                "\n",
                "gw_daily = pd.DataFrame({'site_id': site_id, 'date': date, 'wl_f': wl_f})\n",
                "gw_daily['date'] = pd.to_datetime(gw_daily['date'])  # Convert 'date' to datetime\n",
                "# Convert 'wl_f' to float, with non-convertible values becoming NaN\n",
                "gw_daily['wl_f'] = pd.to_numeric(gw_daily['wl_f'], errors='coerce')\n",
                "# Assuming 'fit_to_meter' is defined earlier in your code as the conversion factor from feet to meters\n",
                "gw_daily['wl_m'] = fit_to_meter * gw_daily['wl_f']"
            ]
        },
        {
            "cell_type": "code",
            "execution_count": 4,
            "id": "5bf195ee-04b7-465e-8712-d2f02cfeac7c",
            "metadata": {},
            "outputs": [
                {
                    "name": "stdout",
                    "output_type": "stream",
                    "text": [
                        "index 0 is out of bounds for axis 0 with size 0\n",
                        "index 0 is out of bounds for axis 0 with size 0\n",
                        "index 0 is out of bounds for axis 0 with size 0\n",
                        "index 0 is out of bounds for axis 0 with size 0\n",
                        "index 0 is out of bounds for axis 0 with size 0\n",
                        "index 0 is out of bounds for axis 0 with size 0\n",
                        "index 0 is out of bounds for axis 0 with size 0\n",
                        "index 0 is out of bounds for axis 0 with size 0\n",
                        "index 0 is out of bounds for axis 0 with size 0\n",
                        "index 0 is out of bounds for axis 0 with size 0\n",
                        "index 0 is out of bounds for axis 0 with size 0\n",
                        "index 0 is out of bounds for axis 0 with size 0\n",
                        "index 0 is out of bounds for axis 0 with size 0\n",
                        "index 0 is out of bounds for axis 0 with size 0\n",
                        "index 0 is out of bounds for axis 0 with size 0\n",
                        "index 0 is out of bounds for axis 0 with size 0\n",
                        "index 0 is out of bounds for axis 0 with size 0\n"
                    ]
                }
            ],
            "source": [
                "from pandas import date_range\n",
                "import numpy as np\n",
                "# Create a date range from 1990-01-01 to 2022-12-31\n",
                "date_range_all = date_range(start='1990-01-01', end='2022-12-31')\n",
                "\n",
                "# Unique stations\n",
                "stations = gw_daily.site_id.unique()\n",
                "\n",
                "for station in stations:\n",
                "    # Filter data for the current station\n",
                "    station_data = gw_daily[gw_daily.site_id == station]\n",
                "    \n",
                "    # Filter data within the date range 1990 to 2022\n",
                "    station_data = station_data[(station_data['date'].dt.year >= 1990) & (station_data['date'].dt.year <= 2022)]\n",
                "\n",
                "    # Reindexing to fill in missing dates\n",
                "    station_data.set_index('date', inplace=True)\n",
                "    station_data = station_data.reindex(date_range_all, fill_value=np.nan)\n",
                "\n",
                "    # Resetting the index to bring 'date' back as a column\n",
                "    station_data.reset_index(inplace=True)\n",
                "    station_data.rename(columns={'index': 'date'}, inplace=True)\n",
                "\n",
                "    # Add back the station ID for the current station\n",
                "    station_data['site_id'] = station\n",
                "\n",
                "    # Export data\n",
                "    export_path = f'/data/MyDataBase/SWATGenXAppData/groundwater_daily_stations/{station}.csv'\n",
                "    try:\n",
                "        alt_va_m = site_locations_gdf[site_locations_gdf.site_no==int(station_data.site_id.unique()[0])].alt_va_m.values[0]\n",
                "        station_data ['head_m'] = alt_va_m - station_data ['wl_m']\n",
                "        station_data ['head_m'] = station_data ['head_m'].astype(float).round(2)\n",
                "        station_data ['wl_m'] = station_data ['wl_m'].astype(float).round(2)\n",
                "        station_data.to_csv(export_path, index=False)\n",
                "    except Exception as e:\n",
                "        print(e)"
            ]
        },
        {
            "cell_type": "code",
            "execution_count": 6,
            "id": "d740cea9-4261-4087-ac61-c144a725731c",
            "metadata": {},
            "outputs": [
                {
                    "name": "stdout",
                    "output_type": "stream",
                    "text": [
                        "the watershed 40500012403 has 1 gw daily observation sites\n",
                        "40500012403 [Errno 2] No such file or directory: '/data/MyDataBase/SWATGenXAppData/groundwater_daily_stations\\\\420658086082501.csv'\n",
                        "the watershed 40500030307 has 4 gw daily observation sites\n",
                        "the watershed 40500030505 has 1 gw daily observation sites\n",
                        "the watershed 40500040504 has 4 gw daily observation sites\n",
                        "40500040504 [Errno 2] No such file or directory: '/data/MyDataBase/SWATGenXAppData/groundwater_daily_stations\\\\424300084201001.csv'\n",
                        "the watershed 40601010803 has 1 gw daily observation sites\n",
                        "the watershed 40601020302 has 1 gw daily observation sites\n",
                        "40601020302 [Errno 2] No such file or directory: '/data/MyDataBase/SWATGenXAppData/groundwater_daily_stations\\\\441503084242201.csv'\n",
                        "the watershed 40601021003 has 3 gw daily observation sites\n",
                        "the watershed 40601050502 has 1 gw daily observation sites\n",
                        "the watershed 40700040102 has 1 gw daily observation sites\n",
                        "40700040102 [Errno 2] No such file or directory: '/data/MyDataBase/SWATGenXAppData/groundwater_daily_stations\\\\451700084454801.csv'\n",
                        "the watershed 40700040301 has 1 gw daily observation sites\n",
                        "the watershed 40700070106 has 1 gw daily observation sites\n",
                        "the watershed 40802010304 has 1 gw daily observation sites\n",
                        "the watershed 40802020104 has 1 gw daily observation sites\n",
                        "the watershed 40900010102 has 1 gw daily observation sites\n",
                        "the watershed 41000130101 has 7 gw daily observation sites\n",
                        "41000130101 [Errno 2] No such file or directory: '/data/MyDataBase/SWATGenXAppData/groundwater_daily_stations\\\\423137083465702.csv'\n",
                        "41000130101 [Errno 2] No such file or directory: '/data/MyDataBase/SWATGenXAppData/groundwater_daily_stations\\\\424133083293201.csv'\n",
                        "the watershed 41000130204 has 1 gw daily observation sites\n"
                    ]
                }
            ],
            "source": [
                "import shutil\n",
                "import os\n",
                "BASE_PATH= '/data/MyDataBase/SWATGenXAppData/'\n",
                "LEVEL = 'huc12'\n",
                "\n",
                "NAMES = os.listdir(f'/data/MyDataBase/SWATGenXAppData/SWATplus_by_VPUID/{LEVEL}')\n",
                "gw_daily_sites = gpd.read_file(os.path.join(BASE_PATH, 'groundwater_daily_stations/statons_location'))\n",
                "\n",
                "NAMES.remove('log.txt')\n",
                "\n",
                "for NAME in NAMES:\n",
                "    NHDPlusID_watershed = gpd.read_file(os.path.join(BASE_PATH,fr'SWATplus_by_VPUID/{LEVEL}/{NAME}/SWAT_plus_streams/SWAT_plus_streams.shp')).NHDPlusID.unique()\n",
                "    num_stations = len(gw_daily_sites[gw_daily_sites.NHDPlusID.isin(NHDPlusID_watershed)])\n",
                "    if num_stations>0:\n",
                "        os.makedirs(os.path.join(BASE_PATH,fr'SWATplus_by_VPUID/{LEVEL}/{NAME}/gw_daily_sites'), exist_ok=True)\n",
                "        print(f'the watershed {NAME} has {num_stations} gw daily observation sites')\n",
                "        site_files = gw_daily_sites[gw_daily_sites.NHDPlusID.isin(NHDPlusID_watershed)].site_no\n",
                "        for site_file in site_files:\n",
                "            try:\n",
                "                shutil.copy2(os.path.join(BASE_PATH, 'groundwater_daily_stations',f'{site_file}.csv'), os.path.join(BASE_PATH,fr'SWATplus_by_VPUID/{LEVEL}/{NAME}/gw_daily_sites/'))\n",
                "            except Exception as e:\n",
                "                print(NAME,e)"
            ]
        },
        {
            "cell_type": "code",
            "execution_count": null,
            "id": "7413bcc3-477b-48b3-8ca5-551137952e96",
            "metadata": {},
            "outputs": [],
            "source": []
        }
    ],
    "metadata": {
        "kernelspec": {
            "display_name": "Python 3 (ipykernel)",
            "language": "python",
            "name": "python3"
        },
        "language_info": {
            "codemirror_mode": {
                "name": "ipython",
                "version": 3
            },
            "file_extension": ".py",
            "mimetype": "text/x-python",
            "name": "python",
            "nbconvert_exporter": "python",
            "pygments_lexer": "ipython3",
            "version": "3.9.16"
        }
    },
    "nbformat": 4,
    "nbformat_minor": 5
}