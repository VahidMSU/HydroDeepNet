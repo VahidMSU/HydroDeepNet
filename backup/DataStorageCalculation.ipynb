{
 "cells": [
  {
   "cell_type": "code",
   "execution_count": 2,
   "id": "0f642238-638f-403d-abf0-f0aef789de15",
   "metadata": {
    "tags": []
   },
   "outputs": [
    {
     "name": "stdout",
     "output_type": "stream",
     "text": [
      "40500010102: 2018.56 MB\n",
      "40500010206: 5937.35 MB\n",
      "40500012304: 6024.03 MB\n",
      "40500012403: 12787.85 MB\n",
      "40500020207: 3742.87 MB\n",
      "40500020402: 4042.95 MB\n",
      "40500030307: 472042.94 MB\n",
      "40500030310: 2095.38 MB\n",
      "40500030505: 1530.24 MB\n",
      "40500030602: 1853.27 MB\n",
      "40500030805: 2711.93 MB\n",
      "40500040502: 802.63 MB\n",
      "40500040504: 540311.47 MB\n",
      "40500050207: 3970.30 MB\n",
      "40500050302: 988.42 MB\n",
      "40500060401: 12630.35 MB\n",
      "40500070211: 32368.39 MB\n",
      "40601010503: 126679.39 MB\n",
      "40601020302: 8356.24 MB\n",
      "40601020807: 31091.30 MB\n",
      "40601021003: 1389.20 MB\n",
      "40601030209: 4745.67 MB\n",
      "40601030402: 4052.34 MB\n",
      "40601030404: 3184.53 MB\n",
      "40601040202: 8021.20 MB\n",
      "40601050201: 7221.91 MB\n",
      "40601050502: 2590.08 MB\n",
      "40700040102: 5405.81 MB\n",
      "40700040301: 2372.11 MB\n",
      "40700070106: 388.11 MB\n",
      "40801010405: 85775.44 MB\n",
      "40802010304: 6021.61 MB\n",
      "40802020104: 84.73 MB\n",
      "40802030205: 97643.87 MB\n",
      "40802040101: 243.14 MB\n",
      "40802040104: 3111.03 MB\n",
      "40802040208: 2185.74 MB\n",
      "40802040405: 11157.00 MB\n",
      "40900010102: 397.64 MB\n",
      "40900010209: 995.72 MB\n",
      "40900010403: 9703.48 MB\n",
      "40900030201: 2383.48 MB\n",
      "40900030303: 1388.85 MB\n",
      "40900030304: 117.99 MB\n",
      "40900030305: 21420.59 MB\n",
      "40900040202: 11632.13 MB\n",
      "40900040404: 23104.96 MB\n",
      "41000020101: 5313.38 MB\n",
      "41000130204: 4765.02 MB\n",
      "41000130402: 822.19 MB\n"
     ]
    }
   ],
   "source": [
    "import os\n",
    "\n",
    "def get_directory_size(directory):\n",
    "    \"\"\"Returns the size of a directory in bytes.\"\"\"\n",
    "    total = 0\n",
    "    with os.scandir(directory) as it:\n",
    "        for entry in it:\n",
    "            if entry.is_file():\n",
    "                total += entry.stat().st_size\n",
    "            elif entry.is_dir():\n",
    "                total += get_directory_size(entry.path)\n",
    "    return total\n",
    "\n",
    "def list_subdirectory_sizes(root_directory):\n",
    "    \"\"\"Lists the sizes of all subdirectories within the given directory.\"\"\"\n",
    "    for subdir in os.listdir(root_directory):\n",
    "        subdir_path = os.path.join(root_directory, subdir)\n",
    "        if os.path.isdir(subdir_path):\n",
    "            size = get_directory_size(subdir_path)\n",
    "            print(f\"{subdir}: {size / (1024 * 1024):.2f} MB\")\n",
    "\n",
    "# Use the function\n",
    "root_directory = \"D:\\\\MyDataBase\\\\SWATplus_by_VPUID\\\\huc12\"\n",
    "list_subdirectory_sizes(root_directory)\n"
   ]
  },
  {
   "cell_type": "code",
   "execution_count": null,
   "id": "61508916-3417-4931-a5da-b9a5f18f4810",
   "metadata": {},
   "outputs": [],
   "source": []
  }
 ],
 "metadata": {
  "kernelspec": {
   "display_name": "Python 3 (ipykernel)",
   "language": "python",
   "name": "python3"
  },
  "language_info": {
   "codemirror_mode": {
    "name": "ipython",
    "version": 3
   },
   "file_extension": ".py",
   "mimetype": "text/x-python",
   "name": "python",
   "nbconvert_exporter": "python",
   "pygments_lexer": "ipython3",
   "version": "3.11.5"
  }
 },
 "nbformat": 4,
 "nbformat_minor": 5
}
