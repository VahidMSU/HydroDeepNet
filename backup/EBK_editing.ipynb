{
 "cells": [
  {
   "cell_type": "code",
   "execution_count": 55,
   "id": "ae4d2ba6-2f2d-4408-b3ed-9ebcdeba0ca8",
   "metadata": {
    "tags": []
   },
   "outputs": [
    {
     "name": "stdout",
     "output_type": "stream",
     "text": [
      "New extent set to:  3794815.7051 21639.1843 4159315.7051 483889.1843 NaN NaN NaN NaN\n",
      "New extent set to:  3794815.7051 21639.1843 4159315.7051 483889.1843 NaN NaN NaN NaN\n",
      "New extent set to:  3794815.7051 21639.1843 4159315.7051 483889.1843 NaN NaN NaN NaN\n",
      "New extent set to:  3794815.7051 21639.1843 4159315.7051 483889.1843 NaN NaN NaN NaN\n",
      "New extent set to:  3794815.7051 21639.1843 4159315.7051 483889.1843 NaN NaN NaN NaN\n",
      "New extent set to:  3794815.7051 21639.1843 4159315.7051 483889.1843 NaN NaN NaN NaN\n",
      "New extent set to:  3794815.7051 21639.1843 4159315.7051 483889.1843 NaN NaN NaN NaN\n",
      "New extent set to:  3794815.7051 21639.1843 4159315.7051 483889.1843 NaN NaN NaN NaN\n",
      "New extent set to:  3794815.7051 21639.1843 4159315.7051 483889.1843 NaN NaN NaN NaN\n",
      "New extent set to:  3794815.7051 21639.1843 4159315.7051 483889.1843 NaN NaN NaN NaN\n",
      "New extent set to:  3794815.7051 21639.1843 4159315.7051 483889.1843 NaN NaN NaN NaN\n",
      "New extent set to:  3794815.7051 21639.1843 4159315.7051 483889.1843 NaN NaN NaN NaN\n",
      "New extent set to:  3794815.7051 21639.1843 4159315.7051 483889.1843 NaN NaN NaN NaN\n",
      "New extent set to:  3794815.7051 21639.1843 4159315.7051 483889.1843 NaN NaN NaN NaN\n",
      "New extent set to:  3794815.7051 21639.1843 4159315.7051 483889.1843 NaN NaN NaN NaN\n",
      "New extent set to:  3794815.7051 21639.1843 4159315.7051 483889.1843 NaN NaN NaN NaN\n",
      "New extent set to:  3794815.7051 21639.1843 4159315.7051 483889.1843 NaN NaN NaN NaN\n",
      "New extent set to:  3794815.7051 21639.1843 4159315.7051 483889.1843 NaN NaN NaN NaN\n"
     ]
    }
   ],
   "source": [
    "import arcpy\n",
    "from arcpy.sa import *\n",
    "import os\n",
    "import glob\n",
    "import arcpy\n",
    "import os\n",
    "import glob\n",
    "import numpy as np\n",
    "#def run_the_script(BASE_PATH):\n",
    "###### THIS CODE reads the results of krigging wells and put them the extent of the DEM map that we used for MODFLOW modeling. \n",
    "\n",
    "arcpy.env.overwriteOutput=True\n",
    "BASE_PATH=f'D:/GW_data_interpolated'\n",
    "SOURCE_mask=\"DEM/DEM_250m.tif\"\n",
    "\n",
    "#Input_rasters=\"R:/ram_disk_workspace\"\n",
    "\n",
    "Input_rasters= r\"Well_data_krigging\\Krigging_work_space_250m_entire_michigan\\Krigging_work_space\"\n",
    "\n",
    "MASK_shape=os.path.join(BASE_PATH, SOURCE_mask)\n",
    "\n",
    "OUTPUT_path = os.path.join(BASE_PATH, '_temp')\n",
    "\n",
    "arcpy.env.overwriteOutput=True\n",
    "FILES=glob.glob(os.path.join(BASE_PATH,Input_rasters+'/*.tif'))\n",
    "\n",
    "SOURCE_extent_raster = os.path.join(BASE_PATH, \"DEM/DEM_250m.tif\")\n",
    "\n",
    "workspace=os.path.join(BASE_PATH,Input_rasters)\n",
    "arcpy.env.workspace= workspace\n",
    "dem_raster = arcpy.Raster(SOURCE_extent_raster)\n",
    "\n",
    "desc = arcpy.Describe(dem_raster)\n",
    "cell_size = desc.meanCellWidth  # or desc.meanCellHeight, they are usually the same\n",
    "\n",
    "\n",
    "arcpy.env.outputCoordinateSystem = arcpy.Describe(SOURCE_extent_raster).spatialReference\n",
    "\n",
    "for FILE in FILES:\n",
    "\n",
    "    # Clip by extent\n",
    "    TEMP_name = os.path.basename(FILE)\n",
    "    temp_file_path = os.path.join(OUTPUT_path, TEMP_name)\n",
    "    dem_extent = dem_raster.extent\n",
    "    arcpy.Clip_management(aligned_raster_path, f\"{dem_extent.XMin} {dem_extent.YMin} {dem_extent.XMax} {dem_extent.YMax}\", \n",
    "                          temp_file_path, MASK_shape, \"#\", \"NONE\", \"NO_MAINTAIN_EXTENT\")\n",
    "\n",
    "    \n",
    "    \n",
    "    # Clip the raster first\n",
    "    arcpy.Clip_management(aligned_raster_path, f\"{dem_extent.XMin} {dem_extent.YMin} {dem_extent.XMax} {dem_extent.YMax}\", \n",
    "                          temp_file_path, MASK_shape, \"#\", \"NONE\", \"NO_MAINTAIN_EXTENT\")\n",
    "\n",
    "    # Now resample the raster to the desired dimensions\n",
    "    desired_width = 1458\n",
    "    desired_height = 1849\n",
    "    # Create an empty raster with the desired dimensions\n",
    "    empty_raster_path = os.path.join(OUTPUT_path, \"empty_raster.tif\")\n",
    "    spatial_ref = arcpy.Describe(dem_raster).spatialReference\n",
    "\n",
    "    # Create an empty raster with the desired dimensions\n",
    "    arcpy.CreateRasterDataset_management(\n",
    "        OUTPUT_path, \n",
    "        \"empty_raster.tif\", \n",
    "        cellsize=cell_size, \n",
    "        pixel_type=\"32_BIT_FLOAT\", \n",
    "        raster_spatial_reference=spatial_ref, \n",
    "        number_of_bands=1\n",
    "    )\n",
    "    \n",
    "    \n",
    "    arcpy.env.extent = arcpy.Describe(SOURCE_extent_raster).extent\n",
    "\n",
    "    # Debugging info\n",
    "    print(\"New extent set to: \", arcpy.env.extent)\n",
    "    # Calculate statistics for the empty raster\n",
    "    arcpy.CalculateStatistics_management(empty_raster_path)\n",
    "\n",
    "    # Calculate statistics for the clipped raster as well\n",
    "    arcpy.CalculateStatistics_management(temp_file_path)\n",
    "    \n",
    "    arcpy.DefineProjection_management(empty_raster_path, arcpy.Describe(SOURCE_extent_raster).spatialReference)\n",
    "\n",
    "    # Perform a conditional operation to overlay the clipped raster onto the empty raster\n",
    "    result_raster_path = os.path.join(OUTPUT_path, \"final_\" + TEMP_name)\n",
    "    # After clipping, project the raster to the desired CRS\n",
    "    projected_temp_file_path = os.path.join(OUTPUT_path, \"projected_\" + TEMP_name)\n",
    "    arcpy.ProjectRaster_management(temp_file_path, projected_temp_file_path, arcpy.Describe(SOURCE_extent_raster).spatialReference)\n",
    "\n",
    "    # Perform a conditional operation using the projected raster\n",
    "    arcpy.gp.Con_sa(empty_raster_path, projected_temp_file_path, result_raster_path, \"\", \"VALUE IS NULL\")\n",
    "\n"
   ]
  },
  {
   "cell_type": "code",
   "execution_count": 49,
   "id": "e478d459-1c70-4139-a778-9ea4619dd231",
   "metadata": {},
   "outputs": [
    {
     "data": {
      "text/plain": [
       "'D:/GW_data_interpolated\\\\DEM/DEM_250m.tif'"
      ]
     },
     "execution_count": 49,
     "metadata": {},
     "output_type": "execute_result"
    }
   ],
   "source": [
    "SOURCE_extent_raster"
   ]
  },
  {
   "cell_type": "code",
   "execution_count": 48,
   "id": "c38f44cb-d245-4bf7-ab5d-4685cca83300",
   "metadata": {},
   "outputs": [
    {
     "data": {
      "text/plain": [
       "'D:/GW_data_interpolated\\\\_temp\\\\kriging_output_AQ_THK_1.tif'"
      ]
     },
     "execution_count": 48,
     "metadata": {},
     "output_type": "execute_result"
    }
   ],
   "source": [
    "temp_file_path"
   ]
  },
  {
   "cell_type": "code",
   "execution_count": 47,
   "id": "516108ed-f372-437e-a1b1-c760d49b089b",
   "metadata": {},
   "outputs": [
    {
     "name": "stdout",
     "output_type": "stream",
     "text": [
      "Spatial Reference of empty raster:  NAD_1983_StatePlane_Michigan_South_FIPS_2113\n",
      "Spatial Reference of temp raster:  NAD_1983_StatePlane_Michigan_South_FIPS_2113\n",
      "Extent of empty raster:  41 -219 291 31 NaN NaN NaN NaN\n",
      "Extent of temp raster:  3845533.96828974 48731.4983070933 4159283.96828974 483981.498307093 NaN NaN NaN NaN\n",
      "New extent set to:  3794815.7051 21639.1843 4159315.7051 483889.1843 NaN NaN NaN NaN\n"
     ]
    },
    {
     "ename": "ExecuteError",
     "evalue": "ERROR 010423: D:\\GW_data_interpolated\\_temp\\empty_raster.tif does not have valid statistics as required by the operation.\nERROR 010423: D:\\GW_data_interpolated\\_temp\\empty_raster.tif does not have valid statistics as required by the operation.\nFailed to execute (Con).\n",
     "output_type": "error",
     "traceback": [
      "\u001b[1;31m---------------------------------------------------------------------------\u001b[0m",
      "\u001b[1;31mExecuteError\u001b[0m                              Traceback (most recent call last)",
      "\u001b[1;32m~\\AppData\\Local\\Temp\\2\\ipykernel_69612\\1394468922.py\u001b[0m in \u001b[0;36m<cell line: 14>\u001b[1;34m()\u001b[0m\n\u001b[0;32m     12\u001b[0m \u001b[1;31m# Perform a conditional operation to overlay the clipped raster onto the empty raster\u001b[0m\u001b[1;33m\u001b[0m\u001b[1;33m\u001b[0m\u001b[0m\n\u001b[0;32m     13\u001b[0m \u001b[0mresult_raster_path\u001b[0m \u001b[1;33m=\u001b[0m \u001b[0mos\u001b[0m\u001b[1;33m.\u001b[0m\u001b[0mpath\u001b[0m\u001b[1;33m.\u001b[0m\u001b[0mjoin\u001b[0m\u001b[1;33m(\u001b[0m\u001b[0mOUTPUT_path\u001b[0m\u001b[1;33m,\u001b[0m \u001b[1;34m\"final_\"\u001b[0m \u001b[1;33m+\u001b[0m \u001b[0mTEMP_name\u001b[0m\u001b[1;33m)\u001b[0m\u001b[1;33m\u001b[0m\u001b[1;33m\u001b[0m\u001b[0m\n\u001b[1;32m---> 14\u001b[1;33m \u001b[0marcpy\u001b[0m\u001b[1;33m.\u001b[0m\u001b[0mgp\u001b[0m\u001b[1;33m.\u001b[0m\u001b[0mCon_sa\u001b[0m\u001b[1;33m(\u001b[0m\u001b[0mempty_raster_path\u001b[0m\u001b[1;33m,\u001b[0m \u001b[0mtemp_file_path\u001b[0m\u001b[1;33m,\u001b[0m \u001b[0mresult_raster_path\u001b[0m\u001b[1;33m,\u001b[0m \u001b[1;34m\"\"\u001b[0m\u001b[1;33m,\u001b[0m \u001b[1;34m\"VALUE IS NULL\"\u001b[0m\u001b[1;33m)\u001b[0m\u001b[1;33m\u001b[0m\u001b[1;33m\u001b[0m\u001b[0m\n\u001b[0m",
      "\u001b[1;32mC:\\Program Files\\ArcGIS\\Pro\\Resources\\ArcPy\\arcpy\\geoprocessing\\_base.py\u001b[0m in \u001b[0;36m<lambda>\u001b[1;34m(*args)\u001b[0m\n\u001b[0;32m    510\u001b[0m         \u001b[0mval\u001b[0m \u001b[1;33m=\u001b[0m \u001b[0mgetattr\u001b[0m\u001b[1;33m(\u001b[0m\u001b[0mself\u001b[0m\u001b[1;33m.\u001b[0m\u001b[0m_gp\u001b[0m\u001b[1;33m,\u001b[0m \u001b[0mattr\u001b[0m\u001b[1;33m)\u001b[0m\u001b[1;33m\u001b[0m\u001b[1;33m\u001b[0m\u001b[0m\n\u001b[0;32m    511\u001b[0m         \u001b[1;32mif\u001b[0m \u001b[0mcallable\u001b[0m\u001b[1;33m(\u001b[0m\u001b[0mval\u001b[0m\u001b[1;33m)\u001b[0m\u001b[1;33m:\u001b[0m\u001b[1;33m\u001b[0m\u001b[1;33m\u001b[0m\u001b[0m\n\u001b[1;32m--> 512\u001b[1;33m             \u001b[1;32mreturn\u001b[0m \u001b[1;32mlambda\u001b[0m \u001b[1;33m*\u001b[0m\u001b[0margs\u001b[0m\u001b[1;33m:\u001b[0m \u001b[0mval\u001b[0m\u001b[1;33m(\u001b[0m\u001b[1;33m*\u001b[0m\u001b[0mgp_fixargs\u001b[0m\u001b[1;33m(\u001b[0m\u001b[0margs\u001b[0m\u001b[1;33m,\u001b[0m \u001b[1;32mTrue\u001b[0m\u001b[1;33m)\u001b[0m\u001b[1;33m)\u001b[0m\u001b[1;33m\u001b[0m\u001b[1;33m\u001b[0m\u001b[0m\n\u001b[0m\u001b[0;32m    513\u001b[0m         \u001b[1;32melse\u001b[0m\u001b[1;33m:\u001b[0m\u001b[1;33m\u001b[0m\u001b[1;33m\u001b[0m\u001b[0m\n\u001b[0;32m    514\u001b[0m             \u001b[1;32mreturn\u001b[0m \u001b[0mconvertArcObjectToPythonObject\u001b[0m\u001b[1;33m(\u001b[0m\u001b[0mval\u001b[0m\u001b[1;33m)\u001b[0m\u001b[1;33m\u001b[0m\u001b[1;33m\u001b[0m\u001b[0m\n",
      "\u001b[1;31mExecuteError\u001b[0m: ERROR 010423: D:\\GW_data_interpolated\\_temp\\empty_raster.tif does not have valid statistics as required by the operation.\nERROR 010423: D:\\GW_data_interpolated\\_temp\\empty_raster.tif does not have valid statistics as required by the operation.\nFailed to execute (Con).\n"
     ]
    }
   ],
   "source": [
    "# Debugging info\n",
    "print(\"Spatial Reference of empty raster: \", arcpy.Describe(empty_raster_path).spatialReference.name)\n",
    "print(\"Spatial Reference of temp raster: \", arcpy.Describe(temp_file_path).spatialReference.name)\n",
    "print(\"Extent of empty raster: \", arcpy.Describe(empty_raster_path).extent)\n",
    "print(\"Extent of temp raster: \", arcpy.Describe(temp_file_path).extent)\n",
    "# Set the extent to match the DEM\n",
    "\n"
   ]
  },
  {
   "cell_type": "code",
   "execution_count": 52,
   "id": "64b043c0-34db-46ec-b6f8-ab7a9d105ac7",
   "metadata": {},
   "outputs": [
    {
     "data": {
      "text/plain": [
       "'D:/GW_data_interpolated\\\\_temp\\\\empty_raster.tif'"
      ]
     },
     "execution_count": 52,
     "metadata": {},
     "output_type": "execute_result"
    }
   ],
   "source": [
    "empty_raster_path"
   ]
  },
  {
   "cell_type": "code",
   "execution_count": 45,
   "id": "9b8d8435-7d1c-4e89-8dbb-35398226da7d",
   "metadata": {},
   "outputs": [
    {
     "data": {
      "text/html": [
       "<style>table td#td0  {font-weight: bold}</style><table class=\"notebook\"><colgroup><col style=\"width:45%\"></col><col style=\"width:55%\"></col></colgroup><tr><td id = \"td0\" title=\"name (Projected Coordinate System)\">name (Projected Coordinate System)</td><td title=\"NAD_1983_StatePlane_Michigan_South_FIPS_2113\">NAD_1983_StatePlane_Michigan_South_FIPS_2113</td></tr><tr><td id = \"td0\" title=\"factoryCode (WKID)\">factoryCode (WKID)</td><td title=\"26990\">26990</td></tr><tr><td id = \"td0\" title=\"linearUnitName (Linear Unit)\">linearUnitName (Linear Unit)</td><td title=\"Meter\">Meter</td></tr></table><div class=\"subtitle\">spatialReference.GCS</div><style>table td#td0  {font-weight: bold}</style><table class=\"notebook\"><colgroup><col style=\"width:45%\"></col><col style=\"width:55%\"></col></colgroup><tr><td id = \"td0\" title=\"name (Geographic Coordinate System)\">name (Geographic Coordinate System)</td><td title=\"GCS_North_American_1983\">GCS_North_American_1983</td></tr><tr><td id = \"td0\" title=\"factoryCode (WKID)\">factoryCode (WKID)</td><td title=\"4269\">4269</td></tr><tr><td id = \"td0\" title=\"angularUnitName (Angular Unit)\">angularUnitName (Angular Unit)</td><td title=\"Degree\">Degree</td></tr><tr><td id = \"td0\" title=\"datumName (Datum)\">datumName (Datum)</td><td title=\"D_North_American_1983\">D_North_American_1983</td></tr></table>"
      ],
      "text/plain": [
       "<geoprocessing spatial reference object at 0x21d3f7f8c10>"
      ]
     },
     "execution_count": 45,
     "metadata": {},
     "output_type": "execute_result"
    }
   ],
   "source": [
    "spatial_ref"
   ]
  },
  {
   "cell_type": "code",
   "execution_count": 38,
   "id": "7029fc7d-23c9-42fd-80ed-56f7ada86bcb",
   "metadata": {},
   "outputs": [
    {
     "ename": "WindowError",
     "evalue": "Bounds and transform are inconsistent",
     "output_type": "error",
     "traceback": [
      "\u001b[1;31m---------------------------------------------------------------------------\u001b[0m",
      "\u001b[1;31mWindowError\u001b[0m                               Traceback (most recent call last)",
      "\u001b[1;32m~\\AppData\\Local\\Temp\\2\\ipykernel_69612\\2153096685.py\u001b[0m in \u001b[0;36m<cell line: 33>\u001b[1;34m()\u001b[0m\n\u001b[0;32m     59\u001b[0m     \u001b[1;32mwith\u001b[0m \u001b[0mrasterio\u001b[0m\u001b[1;33m.\u001b[0m\u001b[0mopen\u001b[0m\u001b[1;33m(\u001b[0m\u001b[0mtemp_path\u001b[0m\u001b[1;33m+\u001b[0m\u001b[0mos\u001b[0m\u001b[1;33m.\u001b[0m\u001b[0mpath\u001b[0m\u001b[1;33m.\u001b[0m\u001b[0mbasename\u001b[0m\u001b[1;33m(\u001b[0m\u001b[0mfile_path\u001b[0m\u001b[1;33m)\u001b[0m\u001b[1;33m)\u001b[0m \u001b[1;32mas\u001b[0m \u001b[0msrc\u001b[0m\u001b[1;33m:\u001b[0m\u001b[1;33m\u001b[0m\u001b[1;33m\u001b[0m\u001b[0m\n\u001b[0;32m     60\u001b[0m         \u001b[1;31m# Create a window based on the extent of the DEM\u001b[0m\u001b[1;33m\u001b[0m\u001b[1;33m\u001b[0m\u001b[0m\n\u001b[1;32m---> 61\u001b[1;33m         window = rasterio.windows.from_bounds(\n\u001b[0m\u001b[0;32m     62\u001b[0m             \u001b[0mdem_meta\u001b[0m\u001b[1;33m[\u001b[0m\u001b[1;34m'transform'\u001b[0m\u001b[1;33m]\u001b[0m\u001b[1;33m[\u001b[0m\u001b[1;36m2\u001b[0m\u001b[1;33m]\u001b[0m\u001b[1;33m,\u001b[0m \u001b[0mdem_meta\u001b[0m\u001b[1;33m[\u001b[0m\u001b[1;34m'transform'\u001b[0m\u001b[1;33m]\u001b[0m\u001b[1;33m[\u001b[0m\u001b[1;36m5\u001b[0m\u001b[1;33m]\u001b[0m \u001b[1;33m+\u001b[0m \u001b[0mdem_meta\u001b[0m\u001b[1;33m[\u001b[0m\u001b[1;34m'height'\u001b[0m\u001b[1;33m]\u001b[0m \u001b[1;33m*\u001b[0m \u001b[0mdem_meta\u001b[0m\u001b[1;33m[\u001b[0m\u001b[1;34m'transform'\u001b[0m\u001b[1;33m]\u001b[0m\u001b[1;33m[\u001b[0m\u001b[1;36m0\u001b[0m\u001b[1;33m]\u001b[0m\u001b[1;33m,\u001b[0m\u001b[1;33m\u001b[0m\u001b[1;33m\u001b[0m\u001b[0m\n\u001b[0;32m     63\u001b[0m             \u001b[0mdem_meta\u001b[0m\u001b[1;33m[\u001b[0m\u001b[1;34m'transform'\u001b[0m\u001b[1;33m]\u001b[0m\u001b[1;33m[\u001b[0m\u001b[1;36m2\u001b[0m\u001b[1;33m]\u001b[0m \u001b[1;33m+\u001b[0m \u001b[0mdem_meta\u001b[0m\u001b[1;33m[\u001b[0m\u001b[1;34m'width'\u001b[0m\u001b[1;33m]\u001b[0m \u001b[1;33m*\u001b[0m \u001b[0mdem_meta\u001b[0m\u001b[1;33m[\u001b[0m\u001b[1;34m'transform'\u001b[0m\u001b[1;33m]\u001b[0m\u001b[1;33m[\u001b[0m\u001b[1;36m0\u001b[0m\u001b[1;33m]\u001b[0m\u001b[1;33m,\u001b[0m \u001b[0mdem_meta\u001b[0m\u001b[1;33m[\u001b[0m\u001b[1;34m'transform'\u001b[0m\u001b[1;33m]\u001b[0m\u001b[1;33m[\u001b[0m\u001b[1;36m5\u001b[0m\u001b[1;33m]\u001b[0m\u001b[1;33m,\u001b[0m\u001b[1;33m\u001b[0m\u001b[1;33m\u001b[0m\u001b[0m\n",
      "\u001b[1;32m~\\AppData\\Roaming\\Python\\Python39\\site-packages\\rasterio\\windows.py\u001b[0m in \u001b[0;36mfrom_bounds\u001b[1;34m(left, bottom, right, top, transform, height, width, precision)\u001b[0m\n\u001b[0;32m    322\u001b[0m         \u001b[1;32mraise\u001b[0m \u001b[0mWindowError\u001b[0m\u001b[1;33m(\u001b[0m\u001b[1;34m\"Bounds and transform are inconsistent\"\u001b[0m\u001b[1;33m)\u001b[0m\u001b[1;33m\u001b[0m\u001b[1;33m\u001b[0m\u001b[0m\n\u001b[0;32m    323\u001b[0m     \u001b[1;32mif\u001b[0m \u001b[1;33m(\u001b[0m\u001b[0mbottom\u001b[0m \u001b[1;33m-\u001b[0m \u001b[0mtop\u001b[0m\u001b[1;33m)\u001b[0m \u001b[1;33m/\u001b[0m \u001b[0mtransform\u001b[0m\u001b[1;33m.\u001b[0m\u001b[0me\u001b[0m \u001b[1;33m<\u001b[0m \u001b[1;36m0\u001b[0m\u001b[1;33m:\u001b[0m\u001b[1;33m\u001b[0m\u001b[1;33m\u001b[0m\u001b[0m\n\u001b[1;32m--> 324\u001b[1;33m         \u001b[1;32mraise\u001b[0m \u001b[0mWindowError\u001b[0m\u001b[1;33m(\u001b[0m\u001b[1;34m\"Bounds and transform are inconsistent\"\u001b[0m\u001b[1;33m)\u001b[0m\u001b[1;33m\u001b[0m\u001b[1;33m\u001b[0m\u001b[0m\n\u001b[0m\u001b[0;32m    325\u001b[0m \u001b[1;33m\u001b[0m\u001b[0m\n\u001b[0;32m    326\u001b[0m     rows, cols = rowcol(\n",
      "\u001b[1;31mWindowError\u001b[0m: Bounds and transform are inconsistent"
     ]
    }
   ],
   "source": [
    "import rasterio\n",
    "import numpy as np\n",
    "from rasterio.enums import Resampling\n",
    "from rasterio.windows import Window\n",
    "\n",
    "\n",
    "\n",
    "arcpy.env.overwriteOutput=True\n",
    "BASE_PATH=f'D:/GW_data_interpolated'\n",
    "SOURCE_mask=\"DEM/DEM_250m.tif\"\n",
    "\n",
    "#Input_rasters=\"R:/ram_disk_workspace\"\n",
    "\n",
    "Input_rasters= r\"Well_data_krigging\\Krigging_work_space_250m_entire_michigan\\Krigging_work_space\"\n",
    "\n",
    "MASK_shape=os.path.join(BASE_PATH, SOURCE_mask)\n",
    "\n",
    "temp_path = os.path.join(BASE_PATH, '_temp/_temp')\n",
    "os.makedirs(temp_path, exist_ok=True)\n",
    "\n",
    "arcpy.env.overwriteOutput=True\n",
    "FILES=glob.glob(os.path.join(BASE_PATH,Input_rasters+'/*.tif'))\n",
    "DEM_path = os.path.join(BASE_PATH, \"DEM/DEM_250m.tif\")\n",
    "path_to_files=os.path.join(BASE_PATH,Input_rasters)\n",
    "\n",
    "OUTPUT_path = os.path.join(BASE_PATH, '_temp')\n",
    "# Load the DEM to get its metadata\n",
    "with rasterio.open(DEM_path) as dem_src:\n",
    "    dem_meta = dem_src.meta\n",
    "    dem_array = dem_src.read(1)  # Assuming the DEM is a single-band raster\n",
    "\n",
    "# Iterate through the raster files\n",
    "for file_path in FILES:\n",
    "    with rasterio.open(file_path) as src:\n",
    "        # Read the raster data\n",
    "        array = src.read(1)\n",
    "        \n",
    "        # Add 100 rows and columns as a buffer\n",
    "        new_shape = (array.shape[0] + 200, array.shape[1] + 200)\n",
    "        new_array = np.full(new_shape, src.nodatavals[0], dtype=array.dtype)  # Using the NoData value from the original raster\n",
    "        new_array[100:-100, 100:-100] = array\n",
    "\n",
    "        # Create a new transform for the new array\n",
    "        new_transform = rasterio.Affine.translation(-100 * dem_meta['transform'][0], -100 * dem_meta['transform'][4]) * src.transform\n",
    "        \n",
    "        # Prepare meta data for new raster\n",
    "        new_meta = src.meta.copy()\n",
    "        new_meta.update({\n",
    "            'height': new_array.shape[0],\n",
    "            'width': new_array.shape[1],\n",
    "            'transform': new_transform\n",
    "        })\n",
    "        \n",
    "        # Write the new raster file\n",
    "        with rasterio.open(temp_path+os.path.basename(file_path), 'w', **new_meta) as new_dst:\n",
    "            new_dst.write(new_array, 1)\n",
    "            \n",
    "    # Reopen the new raster file to clip it based on the DEM\n",
    "    with rasterio.open(temp_path+os.path.basename(file_path)) as src:\n",
    "        # Create a window based on the extent of the DEM\n",
    "        window = rasterio.windows.from_bounds(\n",
    "            dem_meta['transform'][2], dem_meta['transform'][5] + dem_meta['height'] * dem_meta['transform'][0],\n",
    "            dem_meta['transform'][2] + dem_meta['width'] * dem_meta['transform'][0], dem_meta['transform'][5],\n",
    "            transform=src.transform\n",
    "        )\n",
    "        \n",
    "        # Read the window\n",
    "        array = src.read(1, window=window)\n",
    "        \n",
    "        # Update metadata\n",
    "        new_meta = src.meta.copy()\n",
    "        new_meta.update({\n",
    "            'height': array.shape[0],\n",
    "            'width': array.shape[1],\n",
    "            'transform': rasterio.windows.transform(window, src.transform)\n",
    "        })\n",
    "        \n",
    "        # Write the clipped raster\n",
    "        with rasterio.open(OUTPUT_path+os.path.basename(file_path), 'w', **new_meta) as new_dst:\n",
    "            new_dst.write(array, 1)\n"
   ]
  },
  {
   "cell_type": "code",
   "execution_count": 37,
   "id": "c1ab2985-7e0c-45d3-a8c0-360c12acdbe7",
   "metadata": {},
   "outputs": [
    {
     "data": {
      "text/plain": [
       "['D:/GW_data_interpolated\\\\Well_data_krigging\\\\Krigging_work_space_250m_entire_michigan\\\\Krigging_work_space\\\\kriging_output_AQ_THK_1.tif',\n",
       " 'D:/GW_data_interpolated\\\\Well_data_krigging\\\\Krigging_work_space_250m_entire_michigan\\\\Krigging_work_space\\\\kriging_output_AQ_THK_2.tif',\n",
       " 'D:/GW_data_interpolated\\\\Well_data_krigging\\\\Krigging_work_space_250m_entire_michigan\\\\Krigging_work_space\\\\kriging_output_H_COND_1.tif',\n",
       " 'D:/GW_data_interpolated\\\\Well_data_krigging\\\\Krigging_work_space_250m_entire_michigan\\\\Krigging_work_space\\\\kriging_output_H_COND_2.tif',\n",
       " 'D:/GW_data_interpolated\\\\Well_data_krigging\\\\Krigging_work_space_250m_entire_michigan\\\\Krigging_work_space\\\\kriging_output_SWL.tif',\n",
       " 'D:/GW_data_interpolated\\\\Well_data_krigging\\\\Krigging_work_space_250m_entire_michigan\\\\Krigging_work_space\\\\kriging_output_TRANSMSV_1.tif',\n",
       " 'D:/GW_data_interpolated\\\\Well_data_krigging\\\\Krigging_work_space_250m_entire_michigan\\\\Krigging_work_space\\\\kriging_output_TRANSMSV_2.tif',\n",
       " 'D:/GW_data_interpolated\\\\Well_data_krigging\\\\Krigging_work_space_250m_entire_michigan\\\\Krigging_work_space\\\\kriging_output_V_COND_1.tif',\n",
       " 'D:/GW_data_interpolated\\\\Well_data_krigging\\\\Krigging_work_space_250m_entire_michigan\\\\Krigging_work_space\\\\kriging_output_V_COND_2.tif',\n",
       " 'D:/GW_data_interpolated\\\\Well_data_krigging\\\\Krigging_work_space_250m_entire_michigan\\\\Krigging_work_space\\\\kriging_stderr_AQ_THK_1.tif',\n",
       " 'D:/GW_data_interpolated\\\\Well_data_krigging\\\\Krigging_work_space_250m_entire_michigan\\\\Krigging_work_space\\\\kriging_stderr_AQ_THK_2.tif',\n",
       " 'D:/GW_data_interpolated\\\\Well_data_krigging\\\\Krigging_work_space_250m_entire_michigan\\\\Krigging_work_space\\\\kriging_stderr_H_COND_1.tif',\n",
       " 'D:/GW_data_interpolated\\\\Well_data_krigging\\\\Krigging_work_space_250m_entire_michigan\\\\Krigging_work_space\\\\kriging_stderr_H_COND_2.tif',\n",
       " 'D:/GW_data_interpolated\\\\Well_data_krigging\\\\Krigging_work_space_250m_entire_michigan\\\\Krigging_work_space\\\\kriging_stderr_SWL.tif',\n",
       " 'D:/GW_data_interpolated\\\\Well_data_krigging\\\\Krigging_work_space_250m_entire_michigan\\\\Krigging_work_space\\\\kriging_stderr_TRANSMSV_1.tif',\n",
       " 'D:/GW_data_interpolated\\\\Well_data_krigging\\\\Krigging_work_space_250m_entire_michigan\\\\Krigging_work_space\\\\kriging_stderr_TRANSMSV_2.tif',\n",
       " 'D:/GW_data_interpolated\\\\Well_data_krigging\\\\Krigging_work_space_250m_entire_michigan\\\\Krigging_work_space\\\\kriging_stderr_V_COND_1.tif',\n",
       " 'D:/GW_data_interpolated\\\\Well_data_krigging\\\\Krigging_work_space_250m_entire_michigan\\\\Krigging_work_space\\\\kriging_stderr_V_COND_2.tif']"
      ]
     },
     "execution_count": 37,
     "metadata": {},
     "output_type": "execute_result"
    }
   ],
   "source": [
    "FILES"
   ]
  },
  {
   "cell_type": "code",
   "execution_count": 13,
   "id": "181458f2-cffd-456c-ae92-672cec05dc35",
   "metadata": {},
   "outputs": [
    {
     "data": {
      "text/plain": [
       "'D:/GW_data_interpolated\\\\_temp'"
      ]
     },
     "execution_count": 13,
     "metadata": {},
     "output_type": "execute_result"
    }
   ],
   "source": [
    "OUTPUT_path"
   ]
  },
  {
   "cell_type": "code",
   "execution_count": 24,
   "id": "c75faab9-aea4-40ad-9d7e-8d8dbe8649ca",
   "metadata": {},
   "outputs": [
    {
     "data": {
      "text/plain": [
       "['D:/GW_data_interpolated\\\\Well_data_krigging\\\\Krigging_work_space_250m_entire_michigan\\\\Krigging_work_space\\\\kriging_output_AQ_THK_1.tif',\n",
       " 'D:/GW_data_interpolated\\\\Well_data_krigging\\\\Krigging_work_space_250m_entire_michigan\\\\Krigging_work_space\\\\kriging_output_AQ_THK_2.tif',\n",
       " 'D:/GW_data_interpolated\\\\Well_data_krigging\\\\Krigging_work_space_250m_entire_michigan\\\\Krigging_work_space\\\\kriging_output_H_COND_1.tif',\n",
       " 'D:/GW_data_interpolated\\\\Well_data_krigging\\\\Krigging_work_space_250m_entire_michigan\\\\Krigging_work_space\\\\kriging_output_H_COND_2.tif',\n",
       " 'D:/GW_data_interpolated\\\\Well_data_krigging\\\\Krigging_work_space_250m_entire_michigan\\\\Krigging_work_space\\\\kriging_output_SWL.tif',\n",
       " 'D:/GW_data_interpolated\\\\Well_data_krigging\\\\Krigging_work_space_250m_entire_michigan\\\\Krigging_work_space\\\\kriging_output_TRANSMSV_1.tif',\n",
       " 'D:/GW_data_interpolated\\\\Well_data_krigging\\\\Krigging_work_space_250m_entire_michigan\\\\Krigging_work_space\\\\kriging_output_TRANSMSV_2.tif',\n",
       " 'D:/GW_data_interpolated\\\\Well_data_krigging\\\\Krigging_work_space_250m_entire_michigan\\\\Krigging_work_space\\\\kriging_output_V_COND_1.tif',\n",
       " 'D:/GW_data_interpolated\\\\Well_data_krigging\\\\Krigging_work_space_250m_entire_michigan\\\\Krigging_work_space\\\\kriging_output_V_COND_2.tif',\n",
       " 'D:/GW_data_interpolated\\\\Well_data_krigging\\\\Krigging_work_space_250m_entire_michigan\\\\Krigging_work_space\\\\kriging_stderr_AQ_THK_1.tif',\n",
       " 'D:/GW_data_interpolated\\\\Well_data_krigging\\\\Krigging_work_space_250m_entire_michigan\\\\Krigging_work_space\\\\kriging_stderr_AQ_THK_2.tif',\n",
       " 'D:/GW_data_interpolated\\\\Well_data_krigging\\\\Krigging_work_space_250m_entire_michigan\\\\Krigging_work_space\\\\kriging_stderr_H_COND_1.tif',\n",
       " 'D:/GW_data_interpolated\\\\Well_data_krigging\\\\Krigging_work_space_250m_entire_michigan\\\\Krigging_work_space\\\\kriging_stderr_H_COND_2.tif',\n",
       " 'D:/GW_data_interpolated\\\\Well_data_krigging\\\\Krigging_work_space_250m_entire_michigan\\\\Krigging_work_space\\\\kriging_stderr_SWL.tif',\n",
       " 'D:/GW_data_interpolated\\\\Well_data_krigging\\\\Krigging_work_space_250m_entire_michigan\\\\Krigging_work_space\\\\kriging_stderr_TRANSMSV_1.tif',\n",
       " 'D:/GW_data_interpolated\\\\Well_data_krigging\\\\Krigging_work_space_250m_entire_michigan\\\\Krigging_work_space\\\\kriging_stderr_TRANSMSV_2.tif',\n",
       " 'D:/GW_data_interpolated\\\\Well_data_krigging\\\\Krigging_work_space_250m_entire_michigan\\\\Krigging_work_space\\\\kriging_stderr_V_COND_1.tif',\n",
       " 'D:/GW_data_interpolated\\\\Well_data_krigging\\\\Krigging_work_space_250m_entire_michigan\\\\Krigging_work_space\\\\kriging_stderr_V_COND_2.tif']"
      ]
     },
     "execution_count": 24,
     "metadata": {},
     "output_type": "execute_result"
    }
   ],
   "source": [
    "FILES"
   ]
  },
  {
   "cell_type": "code",
   "execution_count": null,
   "id": "60925329-6503-45c7-b98c-c6719b84635d",
   "metadata": {},
   "outputs": [],
   "source": [
    "\n",
    "\n",
    "import arcpy\n",
    "from arcpy.sa import *\n",
    "import os\n",
    "import glob\n",
    "import arcpy\n",
    "import os\n",
    "import glob\n",
    "import numpy as np\n",
    "\n",
    "BASE_PATH=f'D:/GW_data_interpolated/'\n",
    "SOURCE_mask=\"Boundary/Michigan_LP_boundary_26990.shp\"\n",
    "#SOURCE_rasters=\"R:/ram_disk_workspace\"\n",
    "\n",
    "SOURCE_rasters= r'Soil'\n",
    "MASK_shape=os.path.join(BASE_PATH, SOURCE_mask)\n",
    "TEMP_path = os.path.join(BASE_PATH, '_temp')\n",
    "arcpy.env.overwriteOutput=True\n",
    "FILES=glob.glob(BASE_PATH+SOURCE_rasters+'/*250m.tif')\n",
    "print(FILES)\n",
    "run_the_script()"
   ]
  }
 ],
 "metadata": {
  "kernelspec": {
   "display_name": "Python 3 (ipykernel)",
   "language": "python",
   "name": "python3"
  },
  "language_info": {
   "codemirror_mode": {
    "name": "ipython",
    "version": 3
   },
   "file_extension": ".py",
   "mimetype": "text/x-python",
   "name": "python",
   "nbconvert_exporter": "python",
   "pygments_lexer": "ipython3",
   "version": "3.9.16"
  }
 },
 "nbformat": 4,
 "nbformat_minor": 5
}
