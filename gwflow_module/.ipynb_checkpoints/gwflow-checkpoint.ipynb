{
    "cells": [
        {
            "cell_type": "code",
            "execution_count": 2,
            "id": "b8696477-3134-4254-b15c-8d8bbb292e16",
            "metadata": {},
            "outputs": [
                {
                    "ename": "ModuleNotFoundError",
                    "evalue": "No module named 'arcpy'",
                    "output_type": "error",
                    "traceback": [
                        "\u001b[1;31m---------------------------------------------------------------------------\u001b[0m",
                        "\u001b[1;31mModuleNotFoundError\u001b[0m                       Traceback (most recent call last)",
                        "Cell \u001b[1;32mIn[2], line 3\u001b[0m\n\u001b[0;32m      1\u001b[0m \u001b[38;5;28;01mimport\u001b[39;00m \u001b[38;5;21;01mimportlib\u001b[39;00m\n\u001b[0;32m      2\u001b[0m \u001b[38;5;28;01mimport\u001b[39;00m \u001b[38;5;21;01mos\u001b[39;00m\n\u001b[1;32m----> 3\u001b[0m \u001b[38;5;28;01mimport\u001b[39;00m \u001b[38;5;21;01mutils\u001b[39;00m\n\u001b[0;32m      4\u001b[0m importlib\u001b[38;5;241m.\u001b[39mreload(utils)\n\u001b[0;32m      5\u001b[0m \u001b[38;5;28;01mfrom\u001b[39;00m \u001b[38;5;21;01mutils\u001b[39;00m \u001b[38;5;28;01mimport\u001b[39;00m \u001b[38;5;241m*\u001b[39m\n",
                        "File \u001b[1;32md:\\MyDataBase\\codes\\gwflow_module\\utils.py:1\u001b[0m\n\u001b[1;32m----> 1\u001b[0m \u001b[38;5;28;01mimport\u001b[39;00m \u001b[38;5;21;01marcpy\u001b[39;00m\n\u001b[0;32m      2\u001b[0m \u001b[38;5;28;01mimport\u001b[39;00m \u001b[38;5;21;01msubprocess\u001b[39;00m\n\u001b[0;32m      3\u001b[0m \u001b[38;5;28;01mimport\u001b[39;00m \u001b[38;5;21;01mgeopandas\u001b[39;00m \u001b[38;5;28;01mas\u001b[39;00m \u001b[38;5;21;01mgpd\u001b[39;00m\n",
                        "\u001b[1;31mModuleNotFoundError\u001b[0m: No module named 'arcpy'"
                    ]
                }
            ],
            "source": [
                "import importlib\n",
                "import os\n",
                "import utils\n",
                "importlib.reload(utils)\n",
                "from utils import *\n",
                "\n",
                "LEVEL = \"huc12\"\n",
                "RESOLUTION = 250\n",
                "BASE_PATH = \"/data/MyDataBase/SWATGenXAppData/\"\n",
                "NAMES = os.listdir(f\"/data/MyDataBase/SWATGenXAppData/SWATplus_by_VPUID/{LEVEL}\")\n",
                "NAMES.remove('log.txt')\n",
                "start_year=2002\n",
                "end_year =2005\n",
                "MODEL_NAME= 'SWAT_gwflow_MODEL'\n",
                "#NAME = NAMES[0]\n",
                "\n",
                "#NAMES= [\"40500050207\"]\n",
                "\n",
                "for NAME in NAMES:\n",
                "\n",
                "    print(NAME)\n",
                "\n",
                "    try:\n",
                "        model_base_path = os.path.join(BASE_PATH, f'SWATplus_by_VPUID/{LEVEL}/{NAME}/{MODEL_NAME}')\n",
                "        if os.path.exists(model_base_path):\n",
                "            print('gwflow model exists')\n",
                "            continue\n",
                "        completion_status, GRIDS_TABLE = creating_gwflow(BASE_PATH, LEVEL, NAME, RESOLUTION,start_year, end_year, MODEL_NAME)\n",
                "        print(completion_status)\n",
                "\n",
                "    except Exception as e:\n",
                "        print(f'############################## EEROR  {e} #####################################')\n",
                "        "
            ]
        },
        {
            "cell_type": "code",
            "execution_count": 1,
            "id": "c6fbcf32",
            "metadata": {},
            "outputs": [
                {
                    "name": "stdout",
                    "output_type": "stream",
                    "text": [
                        "c:\\Users\\rafieiva\\AppData\\Local\\anaconda3\\python.exe\n"
                    ]
                }
            ],
            "source": [
                "import sys\n",
                "print(sys.executable)\n"
            ]
        }
    ],
    "metadata": {
        "kernelspec": {
            "display_name": "Python 3 (ipykernel)",
            "language": "python",
            "name": "python3"
        },
        "language_info": {
            "codemirror_mode": {
                "name": "ipython",
                "version": 3
            },
            "file_extension": ".py",
            "mimetype": "text/x-python",
            "name": "python",
            "nbconvert_exporter": "python",
            "pygments_lexer": "ipython3",
            "version": "3.11.5"
        }
    },
    "nbformat": 4,
    "nbformat_minor": 5
}